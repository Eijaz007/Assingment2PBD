{
 "cells": [
  {
   "cell_type": "code",
   "execution_count": 100,
   "id": "9ce56ef7",
   "metadata": {},
   "outputs": [],
   "source": [
    "x=[15,15,16,19,19,20,20,21,22,28,35,40,41,42,43,44,60,61,65]"
   ]
  },
  {
   "cell_type": "code",
   "execution_count": 101,
   "id": "aa580e71",
   "metadata": {},
   "outputs": [],
   "source": [
    "K=10\n",
    "C1=16\n",
    "C2=22\n",
    "previous_C1=0\n",
    "previous_C2=0\n",
    "iterations=77\n",
    "check=0\n",
    "\n",
    "C1_points=[]\n",
    "C2_points=[]\n",
    "\n"
   ]
  },
  {
   "cell_type": "code",
   "execution_count": 102,
   "id": "409d18c0",
   "metadata": {
    "scrolled": true
   },
   "outputs": [
    {
     "name": "stdout",
     "output_type": "stream",
     "text": [
      "Random chosen centroids\n",
      "C1: 16\n",
      "C2 22\n",
      "                                     New centroids after iteration No. 0\n",
      "\n",
      "\n",
      "\n",
      "C1: 15.333333333333334\n",
      "points that belongs to C1: [15, 15, 16]\n",
      "C2: 36.25\n",
      "points that belongs to C2: [19, 19, 20, 20, 21, 22, 28, 35, 40, 41, 42, 43, 44, 60, 61, 65]\n",
      "\n",
      "\n",
      "\n",
      "                                     New centroids after iteration No. 1\n",
      "\n",
      "\n",
      "\n",
      "C1: 18.555555555555557\n",
      "points that belongs to C1: [15, 15, 16, 19, 19, 20, 20, 21, 22]\n",
      "C2: 45.9\n",
      "points that belongs to C2: [28, 35, 40, 41, 42, 43, 44, 60, 61, 65]\n",
      "\n",
      "\n",
      "\n",
      "                                     New centroids after iteration No. 2\n",
      "\n",
      "\n",
      "\n",
      "C1: 19.5\n",
      "points that belongs to C1: [15, 15, 16, 19, 19, 20, 20, 21, 22, 28]\n",
      "C2: 47.888888888888886\n",
      "points that belongs to C2: [35, 40, 41, 42, 43, 44, 60, 61, 65]\n",
      "\n",
      "\n",
      "\n",
      "                                     New centroids after iteration No. 3\n",
      "\n",
      "\n",
      "\n",
      "C1: 19.5\n",
      "points that belongs to C1: [15, 15, 16, 19, 19, 20, 20, 21, 22, 28]\n",
      "C2: 47.888888888888886\n",
      "points that belongs to C2: [35, 40, 41, 42, 43, 44, 60, 61, 65]\n",
      "\n",
      "\n",
      " centroids repating at iteration NO. 3 \n"
     ]
    }
   ],
   "source": [
    "print(\"Random chosen centroids\")\n",
    "print(\"C1:\",C1)\n",
    "print(\"C2\",C2)\n",
    "while iterations >= check:\n",
    "    for i in x:\n",
    "        if (abs(C1-i)) < (abs(C2-i)):\n",
    "            C1_points.append(i)\n",
    "        else:\n",
    "            C2_points.append(i)\n",
    "    C1=sum(C1_points)/len(C1_points)\n",
    "    C2=sum(C2_points)/len(C2_points)\n",
    "    print(\"                                     New centroids after iteration No.\",check)\n",
    "    print(\"\\n\\n\")\n",
    "    print(\"C1:\",C1)\n",
    "    print(\"points that belongs to C1:\",C1_points)\n",
    "    print(\"C2:\",C2)\n",
    "    print(\"points that belongs to C2:\",C2_points)\n",
    "    C1_points=[]\n",
    "    C2_points=[]\n",
    "    if previous_C1==C1 and previous_C2==C2:\n",
    "        print(\"\\n\\n centroids repating at iteration NO. %d \" %(check))\n",
    "        break\n",
    "    previous_C1=C1\n",
    "    previous_C2=C2\n",
    "    check+=1\n",
    "    print(\"\\n\\n\")\n"
   ]
  },
  {
   "cell_type": "code",
   "execution_count": null,
   "id": "6c146050",
   "metadata": {},
   "outputs": [],
   "source": []
  },
  {
   "cell_type": "code",
   "execution_count": null,
   "id": "d18c6988",
   "metadata": {},
   "outputs": [],
   "source": []
  },
  {
   "cell_type": "code",
   "execution_count": null,
   "id": "18dd2e25",
   "metadata": {},
   "outputs": [],
   "source": []
  },
  {
   "cell_type": "code",
   "execution_count": null,
   "id": "4ef93782",
   "metadata": {},
   "outputs": [],
   "source": []
  },
  {
   "cell_type": "code",
   "execution_count": null,
   "id": "293f3f09",
   "metadata": {},
   "outputs": [],
   "source": []
  },
  {
   "cell_type": "code",
   "execution_count": null,
   "id": "df63e4f2",
   "metadata": {},
   "outputs": [],
   "source": []
  },
  {
   "cell_type": "code",
   "execution_count": null,
   "id": "ec66a1d4",
   "metadata": {},
   "outputs": [],
   "source": []
  },
  {
   "cell_type": "code",
   "execution_count": null,
   "id": "54c7654c",
   "metadata": {},
   "outputs": [],
   "source": []
  }
 ],
 "metadata": {
  "kernelspec": {
   "display_name": "Python 3 (ipykernel)",
   "language": "python",
   "name": "python3"
  },
  "language_info": {
   "codemirror_mode": {
    "name": "ipython",
    "version": 3
   },
   "file_extension": ".py",
   "mimetype": "text/x-python",
   "name": "python",
   "nbconvert_exporter": "python",
   "pygments_lexer": "ipython3",
   "version": "3.9.7"
  }
 },
 "nbformat": 4,
 "nbformat_minor": 5
}
